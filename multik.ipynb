{
  "nbformat": 4,
  "nbformat_minor": 0,
  "metadata": {
    "colab": {
      "name": "Untitled5.ipynb",
      "private_outputs": true,
      "provenance": [],
      "mount_file_id": "17UNjaJKV_XZvUidMwYezG3zGibO2q2YQ",
      "authorship_tag": "ABX9TyOOCgwt+gntvnxKE11cvCUc",
      "include_colab_link": true
    },
    "kernelspec": {
      "name": "python3",
      "display_name": "Python 3"
    },
    "language_info": {
      "name": "python"
    }
  },
  "cells": [
    {
      "cell_type": "markdown",
      "metadata": {
        "id": "view-in-github",
        "colab_type": "text"
      },
      "source": [
        "<a href=\"https://colab.research.google.com/github/Wolfman1219/Tasvirlar_ustida_amallar/blob/main/multik.ipynb\" target=\"_parent\"><img src=\"https://colab.research.google.com/assets/colab-badge.svg\" alt=\"Open In Colab\"/></a>"
      ]
    },
    {
      "cell_type": "code",
      "metadata": {
        "id": "WS-iYIoXzPwp"
      },
      "source": [
        "import cv2\n",
        "import numpy as np\n",
        "import matplotlib.pyplot as plt"
      ],
      "execution_count": null,
      "outputs": []
    },
    {
      "cell_type": "code",
      "metadata": {
        "id": "v2fR8xJqzXvg"
      },
      "source": [
        "rasm = cv2.imread('/content/drive/MyDrive/dataset_uchun/1.jpg')\n",
        "rasm = cv2.cvtColor(rasm, cv2.COLOR_BGR2RGB)\n",
        "#rasm = cv2.cvtColor(rasm, cv2.COLOR_RGB2GRAY)\n",
        "plt.imshow(rasm)\n",
        "print(rasm.shape)"
      ],
      "execution_count": null,
      "outputs": []
    },
    {
      "cell_type": "code",
      "metadata": {
        "id": "1mbj-QxvzwWA"
      },
      "source": [
        "pixel_val =rasm.reshape((-1, 3)) \n",
        "print(pixel_val.shape)\n",
        "pixal = np.float32(pixel_val)"
      ],
      "execution_count": null,
      "outputs": []
    },
    {
      "cell_type": "code",
      "metadata": {
        "id": "ypDJ9nfr1gE5"
      },
      "source": [
        "criter = (cv2.TERM_CRITERIA_EPS+cv2.TERM_CRITERIA_MAX_ITER, 10, 0.2)\n",
        "k = 5\n",
        "summa, label, center = cv2.kmeans(pixal, k, None, criter, 10, cv2.KMEANS_RANDOM_CENTERS)\n",
        "\n"
      ],
      "execution_count": null,
      "outputs": []
    },
    {
      "cell_type": "code",
      "metadata": {
        "id": "DtyzjEBE31gK"
      },
      "source": [
        "center = np.uint8(center)\n",
        "krasm = center[label.flatten()]\n",
        "krasm = krasm.reshape(rasm.shape)\n",
        "plt.figure(figsize=(20, 20))\n",
        "plt.imshow(krasm)\n",
        "krasm = cv2.cvtColor(krasm, cv2.COLOR_BGR2RGB)\n",
        "#cv2.imwrite('mult.jpg', krasm)"
      ],
      "execution_count": null,
      "outputs": []
    }
  ]
}