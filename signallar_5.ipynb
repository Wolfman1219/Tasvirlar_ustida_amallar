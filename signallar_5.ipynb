{
  "nbformat": 4,
  "nbformat_minor": 0,
  "metadata": {
    "colab": {
      "name": "signallar_5.ipynb",
      "private_outputs": true,
      "provenance": [],
      "collapsed_sections": [],
      "mount_file_id": "1jbTDM_ozaR2hmchPBSYozE8b9rF_MiGE",
      "authorship_tag": "ABX9TyMVk/D4DOdr6xqg2kb/hEDb",
      "include_colab_link": true
    },
    "kernelspec": {
      "name": "python3",
      "display_name": "Python 3"
    },
    "language_info": {
      "name": "python"
    }
  },
  "cells": [
    {
      "cell_type": "markdown",
      "metadata": {
        "id": "view-in-github",
        "colab_type": "text"
      },
      "source": [
        "<a href=\"https://colab.research.google.com/github/Wolfman1219/Yashil_fonli_rasm/blob/main/signallar_5.ipynb\" target=\"_parent\"><img src=\"https://colab.research.google.com/assets/colab-badge.svg\" alt=\"Open In Colab\"/></a>"
      ]
    },
    {
      "cell_type": "code",
      "execution_count": null,
      "metadata": {
        "id": "nMjmqwgunvaE"
      },
      "outputs": [],
      "source": [
        "import matplotlib.pyplot as plt\n",
        "import matplotlib\n",
        "import numpy as np\n",
        "import cv2\n",
        "from PIL import Image\n",
        "from PIL.ExifTags import TAGS"
      ]
    },
    {
      "cell_type": "code",
      "source": [
        "image = cv2.imread(r\"/content/drive/MyDrive/Bonu.jpg\")\n",
        "image2 = cv2.cvtColor(image, cv2.COLOR_BGR2RGB) #BGR dan RGB ga o'tkazish\n",
        "grayscale = cv2.cvtColor(image, cv2.COLOR_RGB2GRAY) #RGB dan gray ga o'tkazish\n",
        "# plt.imshow(image)\n",
        "\n",
        "plt.figure(figsize = [10, 10])\n",
        "# plt.subplot(221)\n",
        "# plt.imshow(image2)\n",
        "# plt.subplot(222)\n",
        "# plt.imshow(grayscale, cmap = 'gray')\n",
        "img = np.copy(image)\n",
        "xp = [0, 64, 128, 192, 255]\n",
        "fp = [0, 16, 128, 240, 255]\n",
        "x = np.arange(256) cv2\n",
        "\n",
        "rasm = cv2.imread('/content/drive/MyDrive/man in green background.jpg')\n",
        "rasm = cv2.cvtColor(rasm, cv2.COLOR_BGR2RGB)\n",
        "plt.imshow(rasm)\n",
        "table = np.interp(x, xp, fp).astype('uint8')\n",
        "img = cv2.LUT(img, table)\n",
        "img = cv2.cvtColor(img, cv2.COLOR_BGR2RGB)\n",
        "# plt.subplot(221)\n",
        "plt.imshow(img)\n",
        "# plt.subplot(222)\n",
        "# plt.hist(grayscale.flatten(),256,[0,256], color = 'r')"
      ],
      "metadata": {
        "id": "yHpyU5UJn46g"
      },
      "execution_count": null,
      "outputs": []
    },
    {
      "cell_type": "code",
      "source": [
        "eq = cv2.equalizeHist(grayscale)\n",
        "plt.subplot(221)\n",
        "plt.imshow(eq, cmap = 'gray')\n",
        "plt.subplot(222)\n",
        "plt.hist(eq.flatten(),256,[0,256], color = 'r')"
      ],
      "metadata": {
        "id": "hN_yKjSuYYVq"
      },
      "execution_count": null,
      "outputs": []
    },
    {
      "cell_type": "code",
      "source": [
        "imagename = \"/content/drive/MyDrive/dataset_uchun/1.jpg\"\n",
        "image = Image.open(imagename)\n",
        "exifdata = image.getexif()\n",
        "for tag_id in exifdata:\n",
        "  # get the tag name, instead of human unreadable tag id\n",
        "  tag = TAGS.get(tag_id, tag_id)\n",
        "  data = exifdata.get(tag_id)\n",
        "  # decode bytes \n",
        "  if isinstance(data, bytes): cv2\n",
        "\n",
        "rasm = cv2.imread('/content/drive/MyDrive/man in green background.jpg')\n",
        "rasm = cv2.cvtColor(rasm, cv2.COLOR_BGR2RGB)\n",
        "plt.imshow(rasm)\n",
        "      data = data.decode()\n",
        "  print(f\"{tag:25}: {data}\")"
      ],
      "metadata": {
        "id": "5Ybro3PsFrAP"
      },
      "execution_count": null,
      "outputs": []
    },
    {
      "cell_type": "code",
      "source": [
        "#load modules\n",
        "from PIL import Image\n",
        "from PIL.ExifTags import TAGS\n",
        "from prettytable import PrettyTable\n",
        " cv2\n",
        "\n",
        "rasm = cv2.imread('/content/drive/MyDrive/man in green background.jpg')\n",
        "rasm = cv2.cvtColor(rasm, cv2.COLOR_BGR2RGB)\n",
        "plt.imshow(rasm)\n",
        "image_filename = r\"/content/drive/MyDrive/Bonu.jpg\"\n",
        "\n",
        "#initialiting prettytable object\n",
        "table = PrettyTable()\n",
        "\n",
        "#setting table feilds name\n",
        "table.field_names = [\"MetaTags\", \"Values\"]\n",
        "\n",
        "#load image\n",
        "my_image = Image.open(image_filename)\n",
        "\n",
        "#get EXIF standared Data of the image\n",
        "img_exif_data = my_image.getexif()\n",
        "\n",
        "for id  in img_exif_data:\n",
        "    tag_name = TAGS.get(id, id)\n",
        "    data = img_exif_data.get(id)\n",
        "    \n",
        "    #if data in bytes\n",
        "    if isinstance(data, bytes): cv2\n",
        "\n",
        "rasm = cv2.imread('/content/drive/MyDrive/man in green background.jpg')\n",
        "rasm = cv2.cvtColor(rasm, cv2.COLOR_BGR2RGB)\n",
        "plt.imshow(rasm)\n",
        "        data = data.decode()\n",
        "\n",
        "    table.add_row([tag_name, data])\n",
        "\n",
        "print(table)"
      ],
      "metadata": {
        "id": "mqNhjhdI7lTQ"
      },
      "execution_count": null,
      "outputs": []
    },
    {
      "cell_type": "code",
      "source": [
        "img = cv2.imread(r'/content/drive/MyDrive/osen-listia-fon-colorful-background-autumn-leaves-osennie-fa.jpg') #load rgb image\n",
        "hsv = cv2.cvtColor(img, cv2.COLOR_BGR2HSV) #convert it to hsv\n",
        "\n",
        "for x in range(0, len(hsv)):\n",
        "    for y in range(0, len(hsv[0])):\n",
        "        hsv[x, y][2] += 10\n",
        "\n",
        "img = cv2.cvtColor(hsv, cv2.COLOR_HSV2BGR)\n",
        "cv2.imwrite(\"image_processed.jpg\", img)"
      ],
      "metadata": {
        "id": "Mwun0fuf-D97"
      },
      "execution_count": null,
      "outputs": []
    },
    {
      "cell_type": "code",
      "source": [
        "image = cv2.imread(r'/content/drive/MyDrive/osen-listia-fon-colorful-background-autumn-leaves-osennie-fa.jpg') #load rgb image\n",
        "def increase_brightness(img, value=30):\n",
        "    hsv = cv2.cvtColor(img, cv2.COLOR_BGR2HSV)\n",
        "    h, s, v = cv2.split(hsv)\n",
        "\n",
        "    lim = 255 - value\n",
        "    v[v > lim] = 255\n",
        "    v[v <= lim] += value\n",
        "\n",
        "    final_hsv = cv2.merge((h, s, v))\n",
        "    img = cv2.cvtColor(final_hsv, cv2.COLOR_HSV2BGR)\n",
        "    return img\n",
        "img = cv2.cvtColor(increase_brightness(image, value=0\n",
        "                                       ), cv2.COLOR_BGR2RGB)\n",
        "img1 = cv2.cvtColor(increase_brightness(image, value=50\n",
        "                                       ), cv2.COLOR_BGR2RGB)\n",
        "img2 = cv2.cvtColor(increase_brightness(image, value=100\n",
        "                                       ), cv2.COLOR_BGR2RGB)\n",
        "plt.figure(figsize=[30,30])\n",
        "plt.subplot(331)\n",
        "plt.imshow(img)\n",
        "plt.subplot(332)\n",
        "plt.imshow(img1)\n",
        "plt.subplot(333)\n",
        "plt.imshow(img2)"
      ],
      "metadata": {
        "id": "TmRV24GqBQP9"
      },
      "execution_count": null,
      "outputs": []
    },
    {
      "cell_type": "code",
      "source": [
        "image = cv2.cvtColor(image, cv2.COLOR_BGR2RGB)\n",
        "grayscale = cv2.cvtColor(image, cv2.COLOR_RGB2GRAY) cv2\n",
        "\n",
        "rasm = cv2.imread('/content/drive/MyDrive/man in green background.jpg')\n",
        "rasm = cv2.cvtColor(rasm, cv2.COLOR_BGR2RGB) cv2\n",
        "\n",
        "rasm = cv2.imread('/content/drive/MyDrive/man in green background.jpg')\n",
        "rasm = cv2.cvtColor(rasm, cv2.COLOR_BGR2RGB)\n",
        "plt.imshow(rasm)\n",
        "plt.imshow(rasm)\n",
        "eq = cv2.equalizeHist(grayscale)\n",
        "# plt.figure(figsize=[15, 15])\n",
        "# plt.subplot(221)\n",
        "# plt.imshow(grayscale, cmap = 'gray')\n",
        "# plt.subplot(222)\n",
        "# a = grayscale.flatten()\n",
        "# plt.hist(a,256,[0,256], color = 'r')\n",
        "plt.figure(figsize=[15, 15])\n",
        "plt.subplot(221)\n",
        "plt.imshow(eq, cmap = 'gray')\n",
        "plt.subplot(222)\n",
        "a = eq.flatten()\n",
        "plt.hist(a,256,[0,256], color = 'r')"
      ],
      "metadata": {
        "id": "VkUb6ezCimzc"
      },
      "execution_count": null,
      "outputs": []
    },
    {
      "cell_type": "code",
      "source": [
        "from PIL import Image, ImageEnhance \n",
        "im = Image.open(r\"/content/drive/MyDrive/dataset_uchun/1.jpg\")\n",
        "enhancer = ImageEnhance.Contrast(im)\n",
        "enhanced_im = enhancer.enhance(4.0)\n",
        "enhanced_im.save(\"enhanced.sample1.png\")\n"
      ],
      "metadata": {
        "id": "aP77sbuVRd-K"
      },
      "execution_count": null,
      "outputs": []
    },
    {
      "cell_type": "markdown",
      "source": [
        "Erosin, dilation, opening, closing"
      ],
      "metadata": {
        "id": "F4ExpV3syId9"
      }
    },
    {
      "cell_type": "code",
      "source": [
        "import cv2\n",
        "import numpy as np\n",
        "\n",
        "img = cv2.imread('/content/j.png',0)\n",
        "kernel = np.ones((5,5),np.uint8)\n",
        "erosion = cv2.erode(img,kernel,iterations = 1)\n",
        "plt.figure(figsize=[10, 10])\n",
        "plt.subplot(221)\n",
        "plt.imshow(img, cmap='gray')\n",
        "plt.subplot(222)\n",
        "plt.imshow(erosion, cmap='gray')"
      ],
      "metadata": {
        "id": "Ydwm4d4NyGhc"
      },
      "execution_count": null,
      "outputs": []
    },
    {
      "cell_type": "code",
      "source": [
        "dilation = cv2.dilate(img,kernel,iterations = 1)\n",
        "plt.figure(figsize=[10, 10])\n",
        "plt.subplot(221)\n",
        "plt.imshow(img, cmap='gray')\n",
        "plt.subplot(222)\n",
        "plt.imshow(dilation, cmap='gray')"
      ],
      "metadata": {
        "id": "J2JktTZV0v4r"
      },
      "execution_count": null,
      "outputs": []
    },
    {
      "cell_type": "code",
      "source": [
        "closing = cv2.morphologyEx(img, cv2.MORPH_CLOSE, kernel)\n",
        "plt.figure(figsize=[10, 10])\n",
        "plt.subplot(221)\n",
        "plt.imshow(img, cmap='gray')\n",
        "plt.subplot(222)\n",
        "plt.imshow(closing, cmap='gray')"
      ],
      "metadata": {
        "id": "C9EE-_oEzdRV"
      },
      "execution_count": null,
      "outputs": []
    },
    {
      "cell_type": "code",
      "source": [
        "opening = cv2.morphologyEx(img, cv2.MORPH_OPEN, kernel)\n",
        "plt.figure(figsize=[10, 10])\n",
        "plt.subplot(221)\n",
        "plt.imshow(img, cmap='gray')\n",
        "plt.subplot(222)\n",
        "plt.imshow(opening, cmap='gray')"
      ],
      "metadata": {
        "id": "gNwZWHLz2NWD"
      },
      "execution_count": null,
      "outputs": []
    },
    {
      "cell_type": "markdown",
      "source": [
        "Filterlash"
      ],
      "metadata": {
        "id": "jxe_dQrs4TbF"
      }
    },
    {
      "cell_type": "code",
      "source": [
        "# plt.imshow(image)\n",
        "image = cv2.imread(r\"/content/drive/MyDrive/topshiriq/variantlar_topshiriq.png\")\n",
        "image = cv2.cvtColor(image, cv2.COLOR_BGR2RGB)\n",
        "image = cv2.cvtColor(image, cv2.COLOR_RGB2GRAY)\n",
        "\n",
        "SX = np.array([[-1,0,1],\n",
        "                    [-2,0,2],\n",
        "                    [-1,0,1]])\n",
        "\n",
        "\n",
        "SY = np.array([[-1,-2,-1],\n",
        "                    [0,0,0],\n",
        "                    [1,2,1]])\n",
        "\n",
        "\n",
        "filter_rasm = cv2.filter2D(image,-1,SX)\n",
        "_, rasm_ikki = cv2.threshold(filter_rasm, 150,255, cv2.THRESH_BINARY)\n",
        "plt.figure(figsize=[10,10])\n",
        "plt.imshow(rasm_ikki, cmap='gray') cv2\n",
        "\n",
        "rasm = cv2.imread('/content/drive/MyDrive/man in green background.jpg')\n",
        "rasm = cv2.cvtColor(rasm, cv2.COLOR_BGR2RGB)\n",
        "plt.imshow(rasm)"
      ],
      "metadata": {
        "id": "crjJT2uz4Wcc"
      },
      "execution_count": null,
      "outputs": []
    },
    {
      "cell_type": "code",
      "source": [
        "rasm = cv2.Canny(image, 100, 200)\n",
        "plt.figure(figsize=[10,10])\n",
        "plt.imshow(rasm, cmap='gray')"
      ],
      "metadata": {
        "id": "IDw3NZtB_6W0"
      },
      "execution_count": null,
      "outputs": []
    },
    {
      "cell_type": "code",
      "source": [
        "image = cv2.imread(r\"/content/drive/MyDrive/topshiriq/variantlar_topshiriq.png\")\n",
        "image = cv2.cvtColor(image, cv2.COLOR_BGR2RGB)\n",
        "SX = np.array([[-1,0,1],\n",
        "                    [-2,0,2],\n",
        "                    [-1,0,1]])\n",
        "\n",
        "\n",
        "SY = np.array([[-1,-2,-1],\n",
        "                    [0,0,0],\n",
        "                    [1,2,1]])\n",
        "\n",
        "\n",
        "filter_rasm = cv2.Canny(image,100,200)\n",
        "plt.figure(figsize=[10,10])\n",
        "plt.subplot(221)\n",
        "plt.imshow(image)\n",
        "plt.subplot(222)\n",
        "plt.imshow(filter_rasm,cmap='gray')"
      ],
      "metadata": {
        "id": "l8FjkUt3AZM6"
      },
      "execution_count": null,
      "outputs": []
    },
    {
      "cell_type": "markdown",
      "source": [
        "Rasmni kesish va burish"
      ],
      "metadata": {
        "id": "sUSfF-G1DdT3"
      }
    },
    {
      "cell_type": "code",
      "source": [
        "rasm = image[100:425,200:615]\n",
        "plt.figure(figsize=[10,10])\n",
        "plt.subplot(221)\n",
        "plt.imshow(image)\n",
        "plt.subplot(222)\n",
        "plt.imshow(rasm)"
      ],
      "metadata": {
        "id": "v002AFUmDcFs"
      },
      "execution_count": null,
      "outputs": []
    },
    {
      "cell_type": "code",
      "source": [
        "print(image.shape)\n",
        "rasm1 = cv2.resize(image, (500, 540), interpolation=cv2.INTER_CUBIC)\n",
        "plt.figure(figsize=[10,10])\n",
        "plt.subplot(221)\n",
        "plt.imshow(image)\n",
        "plt.subplot(222)\n",
        "plt.imshow(rasm1)"
      ],
      "metadata": {
        "id": "Ul3SfHuBE4-P"
      },
      "execution_count": null,
      "outputs": []
    },
    {
      "cell_type": "code",
      "source": [
        "height, width = image.shape[:2]\n",
        "center = (width/2, height/2)\n",
        "rotate_matrix = cv2.getRotationMatrix2D(center=center, angle=45, scale=1)\n",
        "rotated_image = cv2.warpAffine(src=image, M=rotate_matrix, dsize=(width, height))\n",
        "plt.figure(figsize=[10,10])\n",
        "plt.subplot(221)\n",
        "plt.imshow(image)\n",
        "plt.subplot(222)\n",
        "plt.imshow(rotated_image)"
      ],
      "metadata": {
        "id": "uUXDGKopGuUo"
      },
      "execution_count": null,
      "outputs": []
    }
  ]
}